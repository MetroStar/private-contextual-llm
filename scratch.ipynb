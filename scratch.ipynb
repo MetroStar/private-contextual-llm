{
 "cells": [
  {
   "cell_type": "code",
   "execution_count": 1,
   "id": "7dba7aa3-b94c-4105-ac71-561f674c317b",
   "metadata": {
    "tags": []
   },
   "outputs": [
    {
     "name": "stdout",
     "output_type": "stream",
     "text": [
      "Defaulting to user installation because normal site-packages is not writeable\n",
      "Requirement already satisfied: txtai in /home/jdownes/.local/lib/python3.9/site-packages (6.1.0)\n",
      "Requirement already satisfied: faiss-cpu>=1.7.1.post2 in /home/jdownes/.local/lib/python3.9/site-packages (from txtai) (1.7.4)\n",
      "Requirement already satisfied: torch>=1.12.1 in /home/jdownes/.local/lib/python3.9/site-packages (from txtai) (2.1.0)\n",
      "Requirement already satisfied: transformers>=4.22.0 in /home/jdownes/.local/lib/python3.9/site-packages (from txtai) (4.35.0)\n",
      "Requirement already satisfied: huggingface-hub>=0.9.0 in /home/jdownes/.local/lib/python3.9/site-packages (from txtai) (0.17.3)\n",
      "Requirement already satisfied: numpy>=1.18.4 in /home/jdownes/.local/lib/python3.9/site-packages (from txtai) (1.26.1)\n",
      "Requirement already satisfied: pyyaml>=5.3 in /home/jdownes/.local/lib/python3.9/site-packages (from txtai) (6.0.1)\n",
      "Requirement already satisfied: regex>=2022.8.17 in /home/jdownes/.local/lib/python3.9/site-packages (from txtai) (2023.10.3)\n",
      "Requirement already satisfied: filelock in /home/jdownes/.local/lib/python3.9/site-packages (from huggingface-hub>=0.9.0->txtai) (3.13.1)\n",
      "Requirement already satisfied: fsspec in /home/jdownes/.local/lib/python3.9/site-packages (from huggingface-hub>=0.9.0->txtai) (2023.10.0)\n",
      "Requirement already satisfied: requests in /home/conda/global/ae7605e66796b5516b641de08cc7938d1a18479e7b36d7e21b30718ffdc950d2-20230918-181927-860202-311-pytorch2-3/lib/python3.9/site-packages (from huggingface-hub>=0.9.0->txtai) (2.31.0)\n",
      "Requirement already satisfied: tqdm>=4.42.1 in /home/jdownes/.local/lib/python3.9/site-packages (from huggingface-hub>=0.9.0->txtai) (4.66.1)\n",
      "Requirement already satisfied: typing-extensions>=3.7.4.3 in /home/jdownes/.local/lib/python3.9/site-packages (from huggingface-hub>=0.9.0->txtai) (4.8.0)\n",
      "Requirement already satisfied: packaging>=20.9 in /home/jdownes/.local/lib/python3.9/site-packages (from huggingface-hub>=0.9.0->txtai) (23.2)\n",
      "Requirement already satisfied: sympy in /home/jdownes/.local/lib/python3.9/site-packages (from torch>=1.12.1->txtai) (1.12)\n",
      "Requirement already satisfied: networkx in /home/jdownes/.local/lib/python3.9/site-packages (from torch>=1.12.1->txtai) (3.2.1)\n",
      "Requirement already satisfied: jinja2 in /home/jdownes/.local/lib/python3.9/site-packages (from torch>=1.12.1->txtai) (3.1.2)\n",
      "Requirement already satisfied: nvidia-cuda-nvrtc-cu12==12.1.105 in /home/jdownes/.local/lib/python3.9/site-packages (from torch>=1.12.1->txtai) (12.1.105)\n",
      "Requirement already satisfied: nvidia-cuda-runtime-cu12==12.1.105 in /home/jdownes/.local/lib/python3.9/site-packages (from torch>=1.12.1->txtai) (12.1.105)\n",
      "Requirement already satisfied: nvidia-cuda-cupti-cu12==12.1.105 in /home/jdownes/.local/lib/python3.9/site-packages (from torch>=1.12.1->txtai) (12.1.105)\n",
      "Requirement already satisfied: nvidia-cudnn-cu12==8.9.2.26 in /home/jdownes/.local/lib/python3.9/site-packages (from torch>=1.12.1->txtai) (8.9.2.26)\n",
      "Requirement already satisfied: nvidia-cublas-cu12==12.1.3.1 in /home/jdownes/.local/lib/python3.9/site-packages (from torch>=1.12.1->txtai) (12.1.3.1)\n",
      "Requirement already satisfied: nvidia-cufft-cu12==11.0.2.54 in /home/jdownes/.local/lib/python3.9/site-packages (from torch>=1.12.1->txtai) (11.0.2.54)\n",
      "Requirement already satisfied: nvidia-curand-cu12==10.3.2.106 in /home/jdownes/.local/lib/python3.9/site-packages (from torch>=1.12.1->txtai) (10.3.2.106)\n",
      "Requirement already satisfied: nvidia-cusolver-cu12==11.4.5.107 in /home/jdownes/.local/lib/python3.9/site-packages (from torch>=1.12.1->txtai) (11.4.5.107)\n",
      "Requirement already satisfied: nvidia-cusparse-cu12==12.1.0.106 in /home/jdownes/.local/lib/python3.9/site-packages (from torch>=1.12.1->txtai) (12.1.0.106)\n",
      "Requirement already satisfied: nvidia-nccl-cu12==2.18.1 in /home/jdownes/.local/lib/python3.9/site-packages (from torch>=1.12.1->txtai) (2.18.1)\n",
      "Requirement already satisfied: nvidia-nvtx-cu12==12.1.105 in /home/jdownes/.local/lib/python3.9/site-packages (from torch>=1.12.1->txtai) (12.1.105)\n",
      "Requirement already satisfied: triton==2.1.0 in /home/jdownes/.local/lib/python3.9/site-packages (from torch>=1.12.1->txtai) (2.1.0)\n",
      "Requirement already satisfied: nvidia-nvjitlink-cu12 in /home/jdownes/.local/lib/python3.9/site-packages (from nvidia-cusolver-cu12==11.4.5.107->torch>=1.12.1->txtai) (12.3.52)\n",
      "Requirement already satisfied: tokenizers<0.15,>=0.14 in /home/jdownes/.local/lib/python3.9/site-packages (from transformers>=4.22.0->txtai) (0.14.1)\n",
      "Requirement already satisfied: safetensors>=0.3.1 in /home/jdownes/.local/lib/python3.9/site-packages (from transformers>=4.22.0->txtai) (0.4.0)\n",
      "Requirement already satisfied: MarkupSafe>=2.0 in /home/jdownes/.local/lib/python3.9/site-packages (from jinja2->torch>=1.12.1->txtai) (2.1.3)\n",
      "Requirement already satisfied: charset-normalizer<4,>=2 in /home/conda/global/ae7605e66796b5516b641de08cc7938d1a18479e7b36d7e21b30718ffdc950d2-20230918-181927-860202-311-pytorch2-3/lib/python3.9/site-packages (from requests->huggingface-hub>=0.9.0->txtai) (3.2.0)\n",
      "Requirement already satisfied: idna<4,>=2.5 in /home/conda/global/ae7605e66796b5516b641de08cc7938d1a18479e7b36d7e21b30718ffdc950d2-20230918-181927-860202-311-pytorch2-3/lib/python3.9/site-packages (from requests->huggingface-hub>=0.9.0->txtai) (3.4)\n",
      "Requirement already satisfied: urllib3<3,>=1.21.1 in /home/conda/global/ae7605e66796b5516b641de08cc7938d1a18479e7b36d7e21b30718ffdc950d2-20230918-181927-860202-311-pytorch2-3/lib/python3.9/site-packages (from requests->huggingface-hub>=0.9.0->txtai) (2.0.4)\n",
      "Requirement already satisfied: certifi>=2017.4.17 in /home/conda/global/ae7605e66796b5516b641de08cc7938d1a18479e7b36d7e21b30718ffdc950d2-20230918-181927-860202-311-pytorch2-3/lib/python3.9/site-packages (from requests->huggingface-hub>=0.9.0->txtai) (2023.7.22)\n",
      "Requirement already satisfied: mpmath>=0.19 in /home/jdownes/.local/lib/python3.9/site-packages (from sympy->torch>=1.12.1->txtai) (1.3.0)\n"
     ]
    }
   ],
   "source": [
    "!pip install txtai"
   ]
  },
  {
   "cell_type": "code",
   "execution_count": 2,
   "id": "886ce5b1-329a-48da-9045-e9c95e8e9101",
   "metadata": {
    "tags": []
   },
   "outputs": [
    {
     "name": "stdout",
     "output_type": "stream",
     "text": [
      "Defaulting to user installation because normal site-packages is not writeable\n",
      "Requirement already satisfied: transformers in /home/jdownes/.local/lib/python3.9/site-packages (4.35.0)\n",
      "Requirement already satisfied: filelock in /home/jdownes/.local/lib/python3.9/site-packages (from transformers) (3.13.1)\n",
      "Requirement already satisfied: huggingface-hub<1.0,>=0.16.4 in /home/jdownes/.local/lib/python3.9/site-packages (from transformers) (0.17.3)\n",
      "Requirement already satisfied: numpy>=1.17 in /home/jdownes/.local/lib/python3.9/site-packages (from transformers) (1.26.1)\n",
      "Requirement already satisfied: packaging>=20.0 in /home/jdownes/.local/lib/python3.9/site-packages (from transformers) (23.2)\n",
      "Requirement already satisfied: pyyaml>=5.1 in /home/jdownes/.local/lib/python3.9/site-packages (from transformers) (6.0.1)\n",
      "Requirement already satisfied: regex!=2019.12.17 in /home/jdownes/.local/lib/python3.9/site-packages (from transformers) (2023.10.3)\n",
      "Requirement already satisfied: requests in /home/conda/global/ae7605e66796b5516b641de08cc7938d1a18479e7b36d7e21b30718ffdc950d2-20230918-181927-860202-311-pytorch2-3/lib/python3.9/site-packages (from transformers) (2.31.0)\n",
      "Requirement already satisfied: tokenizers<0.15,>=0.14 in /home/jdownes/.local/lib/python3.9/site-packages (from transformers) (0.14.1)\n",
      "Requirement already satisfied: safetensors>=0.3.1 in /home/jdownes/.local/lib/python3.9/site-packages (from transformers) (0.4.0)\n",
      "Requirement already satisfied: tqdm>=4.27 in /home/jdownes/.local/lib/python3.9/site-packages (from transformers) (4.66.1)\n",
      "Requirement already satisfied: fsspec in /home/jdownes/.local/lib/python3.9/site-packages (from huggingface-hub<1.0,>=0.16.4->transformers) (2023.10.0)\n",
      "Requirement already satisfied: typing-extensions>=3.7.4.3 in /home/jdownes/.local/lib/python3.9/site-packages (from huggingface-hub<1.0,>=0.16.4->transformers) (4.8.0)\n",
      "Requirement already satisfied: charset-normalizer<4,>=2 in /home/conda/global/ae7605e66796b5516b641de08cc7938d1a18479e7b36d7e21b30718ffdc950d2-20230918-181927-860202-311-pytorch2-3/lib/python3.9/site-packages (from requests->transformers) (3.2.0)\n",
      "Requirement already satisfied: idna<4,>=2.5 in /home/conda/global/ae7605e66796b5516b641de08cc7938d1a18479e7b36d7e21b30718ffdc950d2-20230918-181927-860202-311-pytorch2-3/lib/python3.9/site-packages (from requests->transformers) (3.4)\n",
      "Requirement already satisfied: urllib3<3,>=1.21.1 in /home/conda/global/ae7605e66796b5516b641de08cc7938d1a18479e7b36d7e21b30718ffdc950d2-20230918-181927-860202-311-pytorch2-3/lib/python3.9/site-packages (from requests->transformers) (2.0.4)\n",
      "Requirement already satisfied: certifi>=2017.4.17 in /home/conda/global/ae7605e66796b5516b641de08cc7938d1a18479e7b36d7e21b30718ffdc950d2-20230918-181927-860202-311-pytorch2-3/lib/python3.9/site-packages (from requests->transformers) (2023.7.22)\n"
     ]
    }
   ],
   "source": [
    "! pip install transformers"
   ]
  },
  {
   "cell_type": "code",
   "execution_count": 3,
   "id": "d98d5d0c-e390-4eaa-a81d-87ec61df85ba",
   "metadata": {
    "tags": []
   },
   "outputs": [
    {
     "name": "stderr",
     "output_type": "stream",
     "text": [
      "/home/jdownes/.local/lib/python3.9/site-packages/tqdm/auto.py:21: TqdmWarning: IProgress not found. Please update jupyter and ipywidgets. See https://ipywidgets.readthedocs.io/en/stable/user_install.html\n",
      "  from .autonotebook import tqdm as notebook_tqdm\n"
     ]
    }
   ],
   "source": [
    "import glob\n",
    "import re\n",
    "#import pandas as pd\n",
    "# import spacy\n",
    "import txtai\n",
    "#from IPython.display import HTML, display\n",
    "\n",
    "from txtai.embeddings import Embeddings\n",
    "from txtai.pipeline import Extractor\n",
    "\n",
    "#pd.set_option(\"display.max_colwidth\", None)\n",
    "#import cv2\n",
    "#import matplotlib.pyplot as plt\n",
    "#import numpy as np"
   ]
  },
  {
   "cell_type": "code",
   "execution_count": 4,
   "id": "3e2408b7-9feb-49f4-a685-36928d774b3c",
   "metadata": {},
   "outputs": [],
   "source": [
    "\n",
    "from transformers import AutoModelForSeq2SeqLM, AutoTokenizer, AutoModelForCausalLM, GenerationConfig"
   ]
  },
  {
   "cell_type": "code",
   "execution_count": 5,
   "id": "25fd7b19-804b-499b-9021-e47a0bf407b8",
   "metadata": {
    "tags": []
   },
   "outputs": [
    {
     "name": "stdout",
     "output_type": "stream",
     "text": [
      "['Reston, VA, Thursday, Nov', \"2, 2023, — MetroStar's Chief Executive Officer and Co-Founder, Ali Reza Manouchehri, was named a winner of the Greater Washington Government Contractor Awards unveiled on Nov\", '1 at the 21st Annual Awards Show at the Ritz-Carlton Tysons Corner', ' Manouchehri earned the award of Executive of the Year in the $75 Million – $300 Million category on Wednesday night', 'Other notable winners included Carissa Christensen of BryceTech, named Executive of the Year in the up to $75 million category, and Carey Smith of Parsons, recognized as Executive of the Year in the over $300 million category', ' Presented by the Northern Virginia Chamber of Commerce and the Professional Services Council, the winners were announced at the evening gala, known as the “Academy Awards of Government Contracting.” In attendance, Manouchehri was humbled and honored to be presented with this award, acknowledging the exceptional talents of his fellow contenders — Sunny Singh from Aeyon, Gautam Ijoor from Alpha Omega, Greg Fitzgerald from ITC Federal, and Shyam Salona from REI Systems', '  The MetroStar team celebrating the Executive of the Year award', '(In order from left: Vy Troung, Debbie Peterson, Ali Manouchehri, Ashley Brush, and Mo Hessabi)', '  \"Awards like these are truly a testament to the team of leaders at MetroStar', 'It\\'s not just about one person\\'s effort, but the collective dedication, resilience, and vision of each leader in our ranks,\" said Manouchehri', '\"Each member of MetroStar is a leader in their own right, driving the company forward', 'Here’s to many more milestones together in our mission to advance the government.\"  About MetroStar MetroStar is an IT and digital services and solutions provider with a rich, two-decade legacy of building the brightest teams', 'As we navigate a new era of technology, our mission is to serve and transform how people, agencies, and tech enthusiasts connect in the digital age', 'Everything we touch begins and ends with people—the civil servants, service members, farmers, and immigrants (to name a few)—and our tools empower faster solutions worldwide, supporting dozens of federal agencies, hundreds of thousands of users, and millions of Americans.']\n"
     ]
    }
   ],
   "source": [
    "with open(\"sample.txt\") as file:\n",
    "    data = file.read().replace('\\n',' ')\n",
    "    # stupid sentence split\n",
    "    data = data.split(\". \")\n",
    "     \n",
    "print(data)"
   ]
  },
  {
   "cell_type": "code",
   "execution_count": 6,
   "id": "dc4bfdc0-e0d5-4077-b7c8-41cfc07d8e82",
   "metadata": {
    "tags": []
   },
   "outputs": [
    {
     "data": {
      "text/plain": [
       "'\\ntokenizer = AutoTokenizer.from_pretrained(\"google/flan-t5-large\", model_max_length = 1000)\\nx = tokenizer(data)\\nprint(x)\\n'"
      ]
     },
     "execution_count": 6,
     "metadata": {},
     "output_type": "execute_result"
    }
   ],
   "source": [
    "'''\n",
    "tokenizer = AutoTokenizer.from_pretrained(\"google/flan-t5-large\", model_max_length = 1000)\n",
    "x = tokenizer(data)\n",
    "print(x)\n",
    "'''"
   ]
  },
  {
   "cell_type": "code",
   "execution_count": 7,
   "id": "0a32f03d-381d-42ce-be73-114f9100fcee",
   "metadata": {
    "tags": []
   },
   "outputs": [
    {
     "name": "stderr",
     "output_type": "stream",
     "text": [
      "/home/jdownes/.local/lib/python3.9/site-packages/torch/cuda/__init__.py:138: UserWarning: CUDA initialization: The NVIDIA driver on your system is too old (found version 11070). Please update your GPU driver by downloading and installing a new version from the URL: http://www.nvidia.com/Download/index.aspx Alternatively, go to: https://pytorch.org to install a PyTorch version that has been compiled with your version of the CUDA driver. (Triggered internally at ../c10/cuda/CUDAFunctions.cpp:108.)\n",
      "  return torch._C._cuda_getDeviceCount() > 0\n"
     ]
    },
    {
     "name": "stdout",
     "output_type": "stream",
     "text": [
      "[{'text': 'Reston, VA, Thursday, Nov', 'user_id': 0}, {'text': \"2, 2023, — MetroStar's Chief Executive Officer and Co-Founder, Ali Reza Manouchehri, was named a winner of the Greater Washington Government Contractor Awards unveiled on Nov\", 'user_id': 1}, {'text': '1 at the 21st Annual Awards Show at the Ritz-Carlton Tysons Corner', 'user_id': 2}, {'text': ' Manouchehri earned the award of Executive of the Year in the $75 Million – $300 Million category on Wednesday night', 'user_id': 0}, {'text': 'Other notable winners included Carissa Christensen of BryceTech, named Executive of the Year in the up to $75 million category, and Carey Smith of Parsons, recognized as Executive of the Year in the over $300 million category', 'user_id': 1}, {'text': ' Presented by the Northern Virginia Chamber of Commerce and the Professional Services Council, the winners were announced at the evening gala, known as the “Academy Awards of Government Contracting.” In attendance, Manouchehri was humbled and honored to be presented with this award, acknowledging the exceptional talents of his fellow contenders — Sunny Singh from Aeyon, Gautam Ijoor from Alpha Omega, Greg Fitzgerald from ITC Federal, and Shyam Salona from REI Systems', 'user_id': 2}, {'text': '  The MetroStar team celebrating the Executive of the Year award', 'user_id': 0}, {'text': '(In order from left: Vy Troung, Debbie Peterson, Ali Manouchehri, Ashley Brush, and Mo Hessabi)', 'user_id': 1}, {'text': '  \"Awards like these are truly a testament to the team of leaders at MetroStar', 'user_id': 2}, {'text': 'It\\'s not just about one person\\'s effort, but the collective dedication, resilience, and vision of each leader in our ranks,\" said Manouchehri', 'user_id': 0}, {'text': '\"Each member of MetroStar is a leader in their own right, driving the company forward', 'user_id': 1}, {'text': 'Here’s to many more milestones together in our mission to advance the government.\"  About MetroStar MetroStar is an IT and digital services and solutions provider with a rich, two-decade legacy of building the brightest teams', 'user_id': 2}, {'text': 'As we navigate a new era of technology, our mission is to serve and transform how people, agencies, and tech enthusiasts connect in the digital age', 'user_id': 0}, {'text': 'Everything we touch begins and ends with people—the civil servants, service members, farmers, and immigrants (to name a few)—and our tools empower faster solutions worldwide, supporting dozens of federal agencies, hundreds of thousands of users, and millions of Americans.', 'user_id': 1}]\n"
     ]
    }
   ],
   "source": [
    "#https://github.com/MetroStar/maiden-ai/blob/main/QA-LLM.ipynb\n",
    "\n",
    "embeddings = Embeddings(\n",
    "    {\"path\": \"sentence-transformers/multi-qa-mpnet-base-dot-v1\", \"content\": True, \"tokenize\": True}\n",
    ")\n",
    "# Build embeddings index\n",
    "#https://neuml.github.io/txtai/embeddings/\n",
    "#simulate user based tags\n",
    "\n",
    "'''\n",
    "embeddings.index([{\"text\": \"text to index\", \"flag\": True,\n",
    "                   \"actiondate\": \"2022-01-01\"}])\n",
    "'''\n",
    "num_users = 3\n",
    "user_data=[]\n",
    "row_id = 0\n",
    "user_id = 0\n",
    "for d in data:\n",
    "    \n",
    "    #user_data.append((row_id, d, {\"user_id\": user_id}))\n",
    "    user_data.append({\"text\": d, \"user_id\":user_id})\n",
    "    user_id +=1\n",
    "    row_id +=1\n",
    "    if user_id == num_users:\n",
    "        user_id = 0 \n",
    "print(user_data)\n",
    "embeddings.index(user_data)"
   ]
  },
  {
   "cell_type": "code",
   "execution_count": 8,
   "id": "778f8716-5a78-4fd0-bb7d-036173523738",
   "metadata": {},
   "outputs": [
    {
     "name": "stdout",
     "output_type": "stream",
     "text": [
      "[{'id': '3', 'text': ' Manouchehri earned the award of Executive of the Year in the $75 Million – $300 Million category on Wednesday night', 'score': 0.7093396186828613}, {'id': '4', 'text': 'Other notable winners included Carissa Christensen of BryceTech, named Executive of the Year in the up to $75 million category, and Carey Smith of Parsons, recognized as Executive of the Year in the over $300 million category', 'score': 0.6936543583869934}, {'id': '6', 'text': '  The MetroStar team celebrating the Executive of the Year award', 'score': 0.640782356262207}]\n"
     ]
    }
   ],
   "source": [
    "results = embeddings.search(\"who won the executive of the year award\")\n",
    "print(results)"
   ]
  },
  {
   "cell_type": "code",
   "execution_count": 9,
   "id": "17825e43-e4ec-4176-ba3a-c8d59942e063",
   "metadata": {
    "tags": []
   },
   "outputs": [
    {
     "name": "stdout",
     "output_type": "stream",
     "text": [
      "[{'indexid': 4, 'id': '4', 'text': 'Other notable winners included Carissa Christensen of BryceTech, named Executive of the Year in the up to $75 million category, and Carey Smith of Parsons, recognized as Executive of the Year in the over $300 million category', 'tags': None, 'entry': '2023-11-28 15:29:20.280804', 'data': '{\"text\": \"Other notable winners included Carissa Christensen of BryceTech, named Executive of the Year in the up to $75 million category, and Carey Smith of Parsons, recognized as Executive of the Year in the over $300 million category\", \"user_id\": 1}', 'object': None, 'score': 0.6936543583869934}, {'indexid': 1, 'id': '1', 'text': \"2, 2023, — MetroStar's Chief Executive Officer and Co-Founder, Ali Reza Manouchehri, was named a winner of the Greater Washington Government Contractor Awards unveiled on Nov\", 'tags': None, 'entry': '2023-11-28 15:29:20.280804', 'data': '{\"text\": \"2, 2023, \\\\u2014 MetroStar\\'s Chief Executive Officer and Co-Founder, Ali Reza Manouchehri, was named a winner of the Greater Washington Government Contractor Awards unveiled on Nov\", \"user_id\": 1}', 'object': None, 'score': 0.5464792251586914}, {'indexid': 10, 'id': '10', 'text': '\"Each member of MetroStar is a leader in their own right, driving the company forward', 'tags': None, 'entry': '2023-11-28 15:29:20.280804', 'data': '{\"text\": \"\\\\\"Each member of MetroStar is a leader in their own right, driving the company forward\", \"user_id\": 1}', 'object': None, 'score': 0.339820921421051}]\n"
     ]
    }
   ],
   "source": [
    "#https://neuml.github.io/txtai/embeddings/query/\n",
    "\n",
    "#query = \"select object from txtai where similar(:x) AND user_id=(:y)\"\n",
    "#results = embeddings.search(query, parameters={\"x\": \"who won the executive of the year award\", \"y\":1})\n",
    "query = \"select * from txtai where similar('who won the executive of the year award') AND user_id=1\"\n",
    "results = embeddings.search(query)\n",
    "print(results)"
   ]
  },
  {
   "cell_type": "code",
   "execution_count": 11,
   "id": "9a94fa25-fd4b-4330-ae91-99a84621a0da",
   "metadata": {},
   "outputs": [],
   "source": [
    "#TODO simulate chat conversation\n",
    "shared_kb= [\n",
    "    \"the best restaurant in chicago is mcdonalds\",\n",
    "    \"the best restaurant in phoenix is burger king\"\n",
    "]\n",
    "\n",
    "user1_conversation =[\n",
    "    \"what are the good restaurants in chicago?\"\n",
    "\n",
    "]\n",
    "user2_conversation =[\n",
    "    \"what are the good restaurants in phoenix?\"\n",
    "]"
   ]
  },
  {
   "cell_type": "code",
   "execution_count": 12,
   "id": "eebed495-403e-474a-a47b-2bdc3605957a",
   "metadata": {
    "tags": []
   },
   "outputs": [],
   "source": [
    "embeddings = Embeddings(\n",
    "    {\"path\": \"sentence-transformers/multi-qa-mpnet-base-dot-v1\", \"content\": True, \"tokenize\": True}\n",
    ")\n",
    "# Build embeddings index\n",
    "#https://neuml.github.io/txtai/embeddings/\n",
    "#simulate user based tags\n",
    "\n",
    "num_users = 3\n",
    "chat_data=[]\n",
    "row_id = 0\n",
    "user_id = 0\n",
    "for d in user1_conversation:\n",
    "    chat_data.append({\"text\": d, \"user_id\":1})\n",
    "for d in user2_conversation:\n",
    "    chat_data.append({\"text\": d, \"user_id\":2})\n",
    "for d in shared_kb:\n",
    "    chat_data.append({\"text\": d, \"user_id\":0})\n",
    "embeddings.index(chat_data)"
   ]
  },
  {
   "cell_type": "code",
   "execution_count": 13,
   "id": "9da65d07-99d9-431a-a404-48456471d7bc",
   "metadata": {
    "tags": []
   },
   "outputs": [
    {
     "name": "stdout",
     "output_type": "stream",
     "text": [
      "[{'indexid': 0, 'id': '0', 'text': 'what are the good restaurants in chicago?', 'tags': None, 'entry': '2023-11-28 15:29:49.810986', 'data': '{\"text\": \"what are the good restaurants in chicago?\", \"user_id\": 1}', 'object': None, 'score': 0.5982734560966492}, {'indexid': 2, 'id': '2', 'text': 'the best restaurant in chicago is mcdonalds', 'tags': None, 'entry': '2023-11-28 15:29:49.810986', 'data': '{\"text\": \"the best restaurant in chicago is mcdonalds\", \"user_id\": 0}', 'object': None, 'score': 0.5662116408348083}, {'indexid': 3, 'id': '3', 'text': 'the best restaurant in phoenix is burger king', 'tags': None, 'entry': '2023-11-28 15:29:49.810986', 'data': '{\"text\": \"the best restaurant in phoenix is burger king\", \"user_id\": 0}', 'object': None, 'score': 0.522383451461792}]\n",
      "[{'indexid': 2, 'id': '2', 'text': 'the best restaurant in chicago is mcdonalds', 'tags': None, 'entry': '2023-11-28 15:29:49.810986', 'data': '{\"text\": \"the best restaurant in chicago is mcdonalds\", \"user_id\": 0}', 'object': None, 'score': 0.5662116408348083}, {'indexid': 1, 'id': '1', 'text': 'what are the good restaurants in phoenix?', 'tags': None, 'entry': '2023-11-28 15:29:49.810986', 'data': '{\"text\": \"what are the good restaurants in phoenix?\", \"user_id\": 2}', 'object': None, 'score': 0.5607239007949829}, {'indexid': 3, 'id': '3', 'text': 'the best restaurant in phoenix is burger king', 'tags': None, 'entry': '2023-11-28 15:29:49.810986', 'data': '{\"text\": \"the best restaurant in phoenix is burger king\", \"user_id\": 0}', 'object': None, 'score': 0.522383451461792}]\n"
     ]
    }
   ],
   "source": [
    "query = \"select * from txtai where similar('what city was i asking about restaurants in?') AND user_id=1 or user_id=0\"\n",
    "results = embeddings.search(query)\n",
    "print(results)\n",
    "\n",
    "query = \"select * from txtai where similar('what city was i asking about restaurants in?') AND user_id=2 or user_id=0\"\n",
    "results = embeddings.search(query)\n",
    "print(results)"
   ]
  },
  {
   "cell_type": "markdown",
   "id": "daefaca7-e9aa-4335-a62c-a1fbe2f9b490",
   "metadata": {},
   "source": [
    "# LLM\n",
    "\n"
   ]
  },
  {
   "cell_type": "code",
   "execution_count": 14,
   "id": "fc6189fd-b360-4f43-aa2d-b68f3d55dbb5",
   "metadata": {
    "tags": []
   },
   "outputs": [
    {
     "name": "stderr",
     "output_type": "stream",
     "text": [
      "Special tokens have been added in the vocabulary, make sure the associated word embeddings are fine-tuned or trained.\n",
      "Downloading shards: 100%|██████████| 2/2 [00:00<00:00,  8.46it/s]\n",
      "Loading checkpoint shards: 100%|██████████| 2/2 [00:50<00:00, 25.46s/it]\n",
      "Downloading generation_config.json: 100%|██████████| 111/111 [00:00<00:00, 50.1kB/s]\n"
     ]
    }
   ],
   "source": [
    "\n",
    "tokenizer = AutoTokenizer.from_pretrained(\"amazon/MistralLite\", model_max_length = 2000)\n",
    "model = AutoModelForCausalLM.from_pretrained(\"amazon/MistralLite\", pad_token_id = tokenizer.eos_token_id)"
   ]
  },
  {
   "cell_type": "code",
   "execution_count": 19,
   "id": "18f7da16-20cd-41dd-8d13-cf69fd59f1c4",
   "metadata": {
    "tags": []
   },
   "outputs": [],
   "source": [
    "q = \"When in chicago what is the best type of food to eat?\"\n",
    "mistral_q = f\"<|prompter|>{q}</s><|assistant|>\"\n",
    "\n",
    "inputs = tokenizer(\n",
    "    mistral_q,\n",
    "    return_tensors=\"pt\")\n",
    "\n",
    "outputs = model.generate(\n",
    "    **inputs, max_new_tokens=1000, use_cache=True, do_sample=True,\n",
    "    temperature=0.2, top_p=0.95)\n",
    "\n",
    "text = tokenizer.batch_decode(outputs)[0]\n"
   ]
  },
  {
   "cell_type": "code",
   "execution_count": 20,
   "id": "66ea563f-41a5-410c-9bcf-37390f048f2b",
   "metadata": {
    "tags": []
   },
   "outputs": [
    {
     "name": "stdout",
     "output_type": "stream",
     "text": [
      "<s><|prompter|> When in chicago what is the best type of food to eat?</s><|assistant|> Chicago is known for its diverse and delicious food scene, with something to suit every taste and budget. Here are some of the best types of food to try when in Chicago:\n",
      "\n",
      "Deep-dish pizza: Chicago-style pizza is famous for its thick, buttery crust and generous toppings. Try a slice from Lou Malnati's, Giordano's, or Pizzeria Uno.\n",
      "\n",
      "Chicago-style hot dogs: A classic Chicago food is the Chicago-style hot dog, served on a poppy seed bun with mustard, relish, onions, tomato wedges, pickle spear, sport peppers, and a dash of celery salt. Try one from Portillo's or Superdawg.\n",
      "\n",
      "Italian beef sandwiches: Another Chicago classic is the Italian beef sandwich, made with thinly sliced roast beef, served on a crusty roll with sweet peppers and giardiniera (a mix of pickled vegetables). Try one from Al's Beef or Mr. Beef.\n",
      "\n",
      "Chicago-style deep-dish pizza: Chicago-style pizza is famous for its thick, buttery crust and generous toppings. Try a slice from Lou Malnati's, Giordano's, or Pizzeria Uno.\n",
      "\n",
      "Greek food: Chicago has a large Greek community, and Greek food is a popular cuisine in the city. Try a gyro or a moussaka from a Greek restaurant like The Parthenon or Olympia Café.\n",
      "\n",
      "Chinese food: Chicago has a large Chinese community, and there are many great Chinese restaurants in the city. Try Peking Duck House or Lao Sze Chuan for authentic Chinese cuisine.\n",
      "\n",
      "Mexican food: Chicago has a large Mexican community, and there are many great Mexican restaurants in the city. Try a taco or a burrito from Big Star or Xoco.\n",
      "\n",
      "Soul food: Chicago has a rich soul food tradition, with many great restaurants serving up classic dishes like fried chicken, collard greens, and mac and cheese. Try a meal at Lem's Bar-B-Q or Gus's World Famous Fried Chicken.\n",
      "\n",
      "These are just a few of the many types of food to try when in Chicago. No matter what you're in the mood for, you're sure to find something delicious to eat in this food-lover's paradise.</s>\n"
     ]
    }
   ],
   "source": [
    "print(text)"
   ]
  },
  {
   "cell_type": "code",
   "execution_count": 24,
   "id": "fe13d954-61bc-418e-8395-56f5cb893f29",
   "metadata": {
    "tags": []
   },
   "outputs": [],
   "source": [
    "# add in contextual stuff\n",
    "embeddings = Embeddings(\n",
    "    {\"path\": \"sentence-transformers/multi-qa-mpnet-base-dot-v1\", \"content\": True, \"tokenize\": True}\n",
    ")\n",
    "chat_data=[]\n",
    "user1_context=[\"I hate spicy food.\", \"My favorite type of foods are seafood.\"]\n",
    "user2_context=[\"I love southern food\", \"I am open to trying all types of food\"]\n",
    "for d in user1_context:\n",
    "    chat_data.append({\"text\": d, \"user_id\":1})\n",
    "for d in user2_context:\n",
    "    chat_data.append({\"text\": d, \"user_id\":2})\n",
    "embeddings.index(chat_data)"
   ]
  },
  {
   "cell_type": "code",
   "execution_count": 25,
   "id": "2d769055-97ca-4cf6-bfa5-2675afa87b2d",
   "metadata": {
    "tags": []
   },
   "outputs": [
    {
     "name": "stdout",
     "output_type": "stream",
     "text": [
      "[{'indexid': 1, 'id': '1', 'text': 'My favorite type of foods are seafood.', 'tags': None, 'entry': '2023-11-28 16:07:23.142141', 'data': '{\"text\": \"My favorite type of foods are seafood.\", \"user_id\": 1}', 'object': None, 'score': 0.552369236946106}, {'indexid': 0, 'id': '0', 'text': 'I hate spicy food.', 'tags': None, 'entry': '2023-11-28 16:07:23.142141', 'data': '{\"text\": \"I hate spicy food.\", \"user_id\": 1}', 'object': None, 'score': 0.3844941258430481}]\n"
     ]
    }
   ],
   "source": [
    "user_id =1\n",
    "query = f\"select * from txtai where similar('{q}') AND user_id={user_id} or user_id=0\"\n",
    "results = embeddings.search(query)\n",
    "print(results)\n"
   ]
  },
  {
   "cell_type": "code",
   "execution_count": 29,
   "id": "9c835bdb-9848-4fe7-a4c0-a96800bbcd60",
   "metadata": {
    "tags": []
   },
   "outputs": [],
   "source": [
    "fr = \"\".join([ r['text'] for r in results])\n",
    "mistral_qc = f\"<|prompter|>With the following additional context: {fr} Provide an answer to the following question: {q}</s><|assistant|>\"\n",
    "inputs = tokenizer(\n",
    "    mistral_qc,\n",
    "    return_tensors=\"pt\")\n",
    "\n",
    "outputs = model.generate(\n",
    "    **inputs, max_new_tokens=1000, use_cache=True, do_sample=True,\n",
    "    temperature=0.2, top_p=0.95)\n",
    "\n",
    "text = tokenizer.batch_decode(outputs)[0]"
   ]
  },
  {
   "cell_type": "code",
   "execution_count": 30,
   "id": "998e01cc-69db-4387-9178-5002b8cc5e74",
   "metadata": {
    "tags": []
   },
   "outputs": [
    {
     "name": "stdout",
     "output_type": "stream",
     "text": [
      "<s><|prompter|> With the following additional context: My favorite type of foods are seafood.I hate spicy food. Provide an answer to the following question: When in chicago what is the best type of food to eat?</s><|assistant|> As a foodie who loves seafood and hates spicy food, I would recommend trying out the following types of food when in Chicago:\n",
      "\n",
      "1. Deep-dish pizza: Chicago is famous for its deep-dish pizza, which is a thick, doughy pizza with a layer of cheese and toppings on top. While it's not seafood, it's a must-try when in Chicago.\n",
      "\n",
      "2. Chicago-style hot dogs: Another Chicago staple is the Chicago-style hot dog, which is served on a poppy seed bun with mustard, relish, onions, tomatoes, pickle spear, and celery salt.\n",
      "\n",
      "3. Italian beef sandwich: This sandwich is made with thinly sliced roast beef, served on a long roll with au jus (beef gravy) and topped with peppers and giardiniera (a mix of pickled vegetables).\n",
      "\n",
      "4. Fish fry: If you're looking for seafood, many restaurants in Chicago offer fish fry on Fridays, which typically includes fried fish, french fries, and coleslaw.\n",
      "\n",
      "5. Lobster rolls: If you're looking for a more upscale seafood option, there are several restaurants in Chicago that serve lobster rolls, which are made with fresh lobster meat served on a bun with butter and lemon.\n",
      "\n",
      "6. Sushi: Chicago has a thriving sushi scene, with many high-end and casual sushi restaurants to choose from.\n",
      "\n",
      "7. Seafood boil: Some restaurants in Chicago offer a seafood boil, which is a mix of seafood (such as shrimp, crab, and crawfish) served with corn, potatoes, and sausage.\n",
      "\n",
      "8. Oysters: If you're a fan of oysters, there are several restaurants in Chicago that serve fresh oysters on the half shell or in dishes like oyster shooters or oyster po' boys.\n",
      "\n",
      "9. Fish tacos: If you're in the mood for tacos, many restaurants in Chicago serve fish tacos made with grilled or fried fish, topped with cabbage, pico de gallo, and crema.\n",
      "\n",
      "10. Clam chowder: For a hearty soup, try a bowl of clam chowder, which is made with clams, potatoes, and bacon in a creamy broth.\n",
      "\n",
      "These are just a few of the many types of food you can try when in Chicago. Be sure to explore the city's diverse food scene and find your favorite dishes!</s>\n"
     ]
    }
   ],
   "source": [
    "print(text)"
   ]
  },
  {
   "cell_type": "code",
   "execution_count": null,
   "id": "c674540f-fb48-4064-bc99-315432f4e917",
   "metadata": {},
   "outputs": [],
   "source": []
  }
 ],
 "metadata": {
  "kernelspec": {
   "display_name": "global-global-pytorch2-3",
   "language": "python",
   "name": "conda-env-global-global-pytorch2-3-py"
  },
  "language_info": {
   "codemirror_mode": {
    "name": "ipython",
    "version": 3
   },
   "file_extension": ".py",
   "mimetype": "text/x-python",
   "name": "python",
   "nbconvert_exporter": "python",
   "pygments_lexer": "ipython3",
   "version": "3.9.0"
  }
 },
 "nbformat": 4,
 "nbformat_minor": 5
}
