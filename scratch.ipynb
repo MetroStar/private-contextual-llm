{
 "cells": [
  {
   "cell_type": "code",
   "execution_count": null,
   "id": "7dba7aa3-b94c-4105-ac71-561f674c317b",
   "metadata": {
    "tags": []
   },
   "outputs": [],
   "source": [
    "!pip install txtai"
   ]
  },
  {
   "cell_type": "code",
   "execution_count": null,
   "id": "886ce5b1-329a-48da-9045-e9c95e8e9101",
   "metadata": {
    "tags": []
   },
   "outputs": [],
   "source": [
    "! pip install transformers"
   ]
  },
  {
   "cell_type": "code",
   "execution_count": 1,
   "id": "d98d5d0c-e390-4eaa-a81d-87ec61df85ba",
   "metadata": {
    "tags": []
   },
   "outputs": [
    {
     "name": "stderr",
     "output_type": "stream",
     "text": [
      "/home/jdownes/.local/lib/python3.9/site-packages/tqdm/auto.py:21: TqdmWarning: IProgress not found. Please update jupyter and ipywidgets. See https://ipywidgets.readthedocs.io/en/stable/user_install.html\n",
      "  from .autonotebook import tqdm as notebook_tqdm\n"
     ]
    }
   ],
   "source": [
    "import glob\n",
    "import re\n",
    "#import pandas as pd\n",
    "# import spacy\n",
    "import txtai\n",
    "#from IPython.display import HTML, display\n",
    "\n",
    "from txtai.embeddings import Embeddings\n",
    "from txtai.pipeline import Extractor\n",
    "\n",
    "#pd.set_option(\"display.max_colwidth\", None)\n",
    "#import cv2\n",
    "#import matplotlib.pyplot as plt\n",
    "#import numpy as np"
   ]
  },
  {
   "cell_type": "code",
   "execution_count": 2,
   "id": "3e2408b7-9feb-49f4-a685-36928d774b3c",
   "metadata": {},
   "outputs": [],
   "source": [
    "\n",
    "from transformers import AutoModelForSeq2SeqLM, AutoTokenizer, AutoModelForCausalLM, GenerationConfig"
   ]
  },
  {
   "cell_type": "code",
   "execution_count": 3,
   "id": "25fd7b19-804b-499b-9021-e47a0bf407b8",
   "metadata": {
    "tags": []
   },
   "outputs": [
    {
     "name": "stdout",
     "output_type": "stream",
     "text": [
      "['Reston, VA, Thursday, Nov', \"2, 2023, — MetroStar's Chief Executive Officer and Co-Founder, Ali Reza Manouchehri, was named a winner of the Greater Washington Government Contractor Awards unveiled on Nov\", '1 at the 21st Annual Awards Show at the Ritz-Carlton Tysons Corner', ' Manouchehri earned the award of Executive of the Year in the $75 Million – $300 Million category on Wednesday night', 'Other notable winners included Carissa Christensen of BryceTech, named Executive of the Year in the up to $75 million category, and Carey Smith of Parsons, recognized as Executive of the Year in the over $300 million category', ' Presented by the Northern Virginia Chamber of Commerce and the Professional Services Council, the winners were announced at the evening gala, known as the “Academy Awards of Government Contracting.” In attendance, Manouchehri was humbled and honored to be presented with this award, acknowledging the exceptional talents of his fellow contenders — Sunny Singh from Aeyon, Gautam Ijoor from Alpha Omega, Greg Fitzgerald from ITC Federal, and Shyam Salona from REI Systems', '  The MetroStar team celebrating the Executive of the Year award', '(In order from left: Vy Troung, Debbie Peterson, Ali Manouchehri, Ashley Brush, and Mo Hessabi)', '  \"Awards like these are truly a testament to the team of leaders at MetroStar', 'It\\'s not just about one person\\'s effort, but the collective dedication, resilience, and vision of each leader in our ranks,\" said Manouchehri', '\"Each member of MetroStar is a leader in their own right, driving the company forward', 'Here’s to many more milestones together in our mission to advance the government.\"  About MetroStar MetroStar is an IT and digital services and solutions provider with a rich, two-decade legacy of building the brightest teams', 'As we navigate a new era of technology, our mission is to serve and transform how people, agencies, and tech enthusiasts connect in the digital age', 'Everything we touch begins and ends with people—the civil servants, service members, farmers, and immigrants (to name a few)—and our tools empower faster solutions worldwide, supporting dozens of federal agencies, hundreds of thousands of users, and millions of Americans.']\n"
     ]
    }
   ],
   "source": [
    "with open(\"sample.txt\") as file:\n",
    "    data = file.read().replace('\\n',' ')\n",
    "    # stupid sentence split\n",
    "    data = data.split(\". \")\n",
    "     \n",
    "print(data)"
   ]
  },
  {
   "cell_type": "code",
   "execution_count": null,
   "id": "dc4bfdc0-e0d5-4077-b7c8-41cfc07d8e82",
   "metadata": {
    "tags": []
   },
   "outputs": [],
   "source": [
    "'''\n",
    "tokenizer = AutoTokenizer.from_pretrained(\"google/flan-t5-large\", model_max_length = 1000)\n",
    "x = tokenizer(data)\n",
    "print(x)\n",
    "'''"
   ]
  },
  {
   "cell_type": "code",
   "execution_count": 4,
   "id": "0a32f03d-381d-42ce-be73-114f9100fcee",
   "metadata": {
    "tags": []
   },
   "outputs": [
    {
     "name": "stdout",
     "output_type": "stream",
     "text": [
      "[{'text': 'Reston, VA, Thursday, Nov', 'user_id': 0}, {'text': \"2, 2023, — MetroStar's Chief Executive Officer and Co-Founder, Ali Reza Manouchehri, was named a winner of the Greater Washington Government Contractor Awards unveiled on Nov\", 'user_id': 1}, {'text': '1 at the 21st Annual Awards Show at the Ritz-Carlton Tysons Corner', 'user_id': 2}, {'text': ' Manouchehri earned the award of Executive of the Year in the $75 Million – $300 Million category on Wednesday night', 'user_id': 0}, {'text': 'Other notable winners included Carissa Christensen of BryceTech, named Executive of the Year in the up to $75 million category, and Carey Smith of Parsons, recognized as Executive of the Year in the over $300 million category', 'user_id': 1}, {'text': ' Presented by the Northern Virginia Chamber of Commerce and the Professional Services Council, the winners were announced at the evening gala, known as the “Academy Awards of Government Contracting.” In attendance, Manouchehri was humbled and honored to be presented with this award, acknowledging the exceptional talents of his fellow contenders — Sunny Singh from Aeyon, Gautam Ijoor from Alpha Omega, Greg Fitzgerald from ITC Federal, and Shyam Salona from REI Systems', 'user_id': 2}, {'text': '  The MetroStar team celebrating the Executive of the Year award', 'user_id': 0}, {'text': '(In order from left: Vy Troung, Debbie Peterson, Ali Manouchehri, Ashley Brush, and Mo Hessabi)', 'user_id': 1}, {'text': '  \"Awards like these are truly a testament to the team of leaders at MetroStar', 'user_id': 2}, {'text': 'It\\'s not just about one person\\'s effort, but the collective dedication, resilience, and vision of each leader in our ranks,\" said Manouchehri', 'user_id': 0}, {'text': '\"Each member of MetroStar is a leader in their own right, driving the company forward', 'user_id': 1}, {'text': 'Here’s to many more milestones together in our mission to advance the government.\"  About MetroStar MetroStar is an IT and digital services and solutions provider with a rich, two-decade legacy of building the brightest teams', 'user_id': 2}, {'text': 'As we navigate a new era of technology, our mission is to serve and transform how people, agencies, and tech enthusiasts connect in the digital age', 'user_id': 0}, {'text': 'Everything we touch begins and ends with people—the civil servants, service members, farmers, and immigrants (to name a few)—and our tools empower faster solutions worldwide, supporting dozens of federal agencies, hundreds of thousands of users, and millions of Americans.', 'user_id': 1}]\n"
     ]
    }
   ],
   "source": [
    "#https://github.com/MetroStar/maiden-ai/blob/main/QA-LLM.ipynb\n",
    "\n",
    "embeddings = Embeddings(\n",
    "    {\"path\": \"sentence-transformers/multi-qa-mpnet-base-dot-v1\", \"content\": True, \"tokenize\": True}\n",
    ")\n",
    "# Build embeddings index\n",
    "#https://neuml.github.io/txtai/embeddings/\n",
    "#simulate user based tags\n",
    "\n",
    "'''\n",
    "embeddings.index([{\"text\": \"text to index\", \"flag\": True,\n",
    "                   \"actiondate\": \"2022-01-01\"}])\n",
    "'''\n",
    "num_users = 3\n",
    "user_data=[]\n",
    "row_id = 0\n",
    "user_id = 0\n",
    "for d in data:\n",
    "    \n",
    "    #user_data.append((row_id, d, {\"user_id\": user_id}))\n",
    "    user_data.append({\"text\": d, \"user_id\":user_id})\n",
    "    user_id +=1\n",
    "    row_id +=1\n",
    "    if user_id == num_users:\n",
    "        user_id = 0 \n",
    "print(user_data)\n",
    "embeddings.index(user_data)"
   ]
  },
  {
   "cell_type": "code",
   "execution_count": 5,
   "id": "778f8716-5a78-4fd0-bb7d-036173523738",
   "metadata": {},
   "outputs": [
    {
     "name": "stdout",
     "output_type": "stream",
     "text": [
      "[{'id': '3', 'text': ' Manouchehri earned the award of Executive of the Year in the $75 Million – $300 Million category on Wednesday night', 'score': 0.7093393802642822}, {'id': '4', 'text': 'Other notable winners included Carissa Christensen of BryceTech, named Executive of the Year in the up to $75 million category, and Carey Smith of Parsons, recognized as Executive of the Year in the over $300 million category', 'score': 0.6936542987823486}, {'id': '6', 'text': '  The MetroStar team celebrating the Executive of the Year award', 'score': 0.640782356262207}]\n"
     ]
    }
   ],
   "source": [
    "results = embeddings.search(\"who won the executive of the year award\")\n",
    "print(results)"
   ]
  },
  {
   "cell_type": "code",
   "execution_count": 6,
   "id": "17825e43-e4ec-4176-ba3a-c8d59942e063",
   "metadata": {
    "tags": []
   },
   "outputs": [
    {
     "name": "stdout",
     "output_type": "stream",
     "text": [
      "[{'indexid': 4, 'id': '4', 'text': 'Other notable winners included Carissa Christensen of BryceTech, named Executive of the Year in the up to $75 million category, and Carey Smith of Parsons, recognized as Executive of the Year in the over $300 million category', 'tags': None, 'entry': '2023-11-14 10:49:01.846360', 'data': '{\"text\": \"Other notable winners included Carissa Christensen of BryceTech, named Executive of the Year in the up to $75 million category, and Carey Smith of Parsons, recognized as Executive of the Year in the over $300 million category\", \"user_id\": 1}', 'object': None, 'score': 0.6936542987823486}, {'indexid': 1, 'id': '1', 'text': \"2, 2023, — MetroStar's Chief Executive Officer and Co-Founder, Ali Reza Manouchehri, was named a winner of the Greater Washington Government Contractor Awards unveiled on Nov\", 'tags': None, 'entry': '2023-11-14 10:49:01.846360', 'data': '{\"text\": \"2, 2023, \\\\u2014 MetroStar\\'s Chief Executive Officer and Co-Founder, Ali Reza Manouchehri, was named a winner of the Greater Washington Government Contractor Awards unveiled on Nov\", \"user_id\": 1}', 'object': None, 'score': 0.5464791655540466}, {'indexid': 10, 'id': '10', 'text': '\"Each member of MetroStar is a leader in their own right, driving the company forward', 'tags': None, 'entry': '2023-11-14 10:49:01.846360', 'data': '{\"text\": \"\\\\\"Each member of MetroStar is a leader in their own right, driving the company forward\", \"user_id\": 1}', 'object': None, 'score': 0.33982083201408386}]\n"
     ]
    }
   ],
   "source": [
    "#https://neuml.github.io/txtai/embeddings/query/\n",
    "\n",
    "#query = \"select object from txtai where similar(:x) AND user_id=(:y)\"\n",
    "#results = embeddings.search(query, parameters={\"x\": \"who won the executive of the year award\", \"y\":1})\n",
    "query = \"select * from txtai where similar('who won the executive of the year award') AND user_id=1\"\n",
    "results = embeddings.search(query)\n",
    "print(results)"
   ]
  },
  {
   "cell_type": "code",
   "execution_count": null,
   "id": "32139f82-e6fc-421d-a5f5-d80520dd5925",
   "metadata": {},
   "outputs": [],
   "source": [
    "#TODO tagged inserts loop it in - provide a catch all"
   ]
  },
  {
   "cell_type": "code",
   "execution_count": null,
   "id": "f7e44ff4-3d40-4708-8991-36231ab5881a",
   "metadata": {
    "tags": []
   },
   "outputs": [],
   "source": [
    "\n",
    "#this wont load on Onyx\n",
    "#tokenizer = AutoTokenizer.from_pretrained(\"amazon/MistralLite\", model_max_length = 2000)\n",
    "#model = AutoModelForCausalLM.from_pretrained(\"amazon/MistralLite\", pad_token_id = tokenizer.eos_token_id)"
   ]
  },
  {
   "cell_type": "code",
   "execution_count": null,
   "id": "9a94fa25-fd4b-4330-ae91-99a84621a0da",
   "metadata": {},
   "outputs": [],
   "source": [
    "#TODO simulate chat conversation"
   ]
  }
 ],
 "metadata": {
  "kernelspec": {
   "display_name": "global-global-pytorch2-3",
   "language": "python",
   "name": "conda-env-global-global-pytorch2-3-py"
  },
  "language_info": {
   "codemirror_mode": {
    "name": "ipython",
    "version": 3
   },
   "file_extension": ".py",
   "mimetype": "text/x-python",
   "name": "python",
   "nbconvert_exporter": "python",
   "pygments_lexer": "ipython3",
   "version": "3.9.0"
  }
 },
 "nbformat": 4,
 "nbformat_minor": 5
}
