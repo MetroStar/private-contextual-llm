{
 "cells": [
  {
   "cell_type": "code",
   "execution_count": 1,
   "metadata": {},
   "outputs": [],
   "source": [
    "import os\n",
    "os.environ['CUDA_VISIBLE_DEVICES'] = '2'"
   ]
  },
  {
   "cell_type": "code",
   "execution_count": 2,
   "metadata": {},
   "outputs": [
    {
     "name": "stderr",
     "output_type": "stream",
     "text": [
      "/home/jdownes/.venv/lib/python3.8/site-packages/tqdm/auto.py:21: TqdmWarning: IProgress not found. Please update jupyter and ipywidgets. See https://ipywidgets.readthedocs.io/en/stable/user_install.html\n",
      "  from .autonotebook import tqdm as notebook_tqdm\n",
      "Special tokens have been added in the vocabulary, make sure the associated word embeddings are fine-tuned or trained.\n",
      "Loading checkpoint shards: 100%|██████████| 2/2 [00:01<00:00,  1.26it/s]\n"
     ]
    }
   ],
   "source": [
    "from txtai.embeddings import Embeddings\n",
    "from transformers import AutoTokenizer, AutoModelForCausalLM\n",
    "\n",
    "tokenizer = AutoTokenizer.from_pretrained(\"amazon/MistralLite\", model_max_length = 2000)\n",
    "model = AutoModelForCausalLM.from_pretrained(\"amazon/MistralLite\", pad_token_id = tokenizer.eos_token_id)"
   ]
  },
  {
   "cell_type": "code",
   "execution_count": 3,
   "metadata": {},
   "outputs": [],
   "source": [
    "# Create the knowledge base\n",
    "embeddings = Embeddings(\n",
    "    {\"path\": \"sentence-transformers/multi-qa-mpnet-base-dot-v1\", \"content\": True, \"tokenize\": True}\n",
    ")\n",
    "chat_data=[]\n",
    "user1_context=[\"I hate spicy food.\", \"My favorite type of foods are seafood.\"]\n",
    "user2_context=[\"I love southern food\", \"I am open to trying all types of food\"]\n",
    "shared_knowledge=[\"The best restaurant anywhere is Burger King!\",\"The best restaurant in Chicago is Pequod's Pizza\"]\n",
    "for d in user1_context:\n",
    "    chat_data.append({\"text\": d, \"user_id\":1})\n",
    "for d in user2_context:\n",
    "    chat_data.append({\"text\": d, \"user_id\":2})\n",
    "\n",
    "#User 0 is our shared knowledge space\n",
    "for d in shared_knowledge:\n",
    "    chat_data.append({\"text\": d, \"user_id\":0})\n",
    "embeddings.index(chat_data)"
   ]
  },
  {
   "cell_type": "code",
   "execution_count": 4,
   "metadata": {},
   "outputs": [
    {
     "name": "stderr",
     "output_type": "stream",
     "text": [
      "Setting `pad_token_id` to `eos_token_id`:2 for open-end generation.\n"
     ]
    }
   ],
   "source": [
    "q = \"What is the best type of food to eat in Chicago?\"\n",
    "mistral_q = f\"<|prompter|>{q}</s><|assistant|>\"\n",
    "\n",
    "inputs = tokenizer(\n",
    "    mistral_q,\n",
    "    return_tensors=\"pt\")\n",
    "\n",
    "outputs = model.generate(\n",
    "    **inputs, max_new_tokens=1000, use_cache=True, do_sample=True,\n",
    "    temperature=0.2, top_p=0.95)\n",
    "\n",
    "text = tokenizer.batch_decode(outputs)[0]\n",
    "\n",
    "print(text)"
   ]
  },
  {
   "cell_type": "code",
   "execution_count": null,
   "metadata": {},
   "outputs": [],
   "source": [
    "user_id =1\n",
    "query = f\"select * from txtai where similar('{q}') AND (user_id={user_id} or user_id=0)\"\n",
    "results = embeddings.search(query)\n",
    "print(results)\n"
   ]
  }
 ],
 "metadata": {
  "kernelspec": {
   "display_name": ".venv",
   "language": "python",
   "name": "python3"
  },
  "language_info": {
   "codemirror_mode": {
    "name": "ipython",
    "version": 3
   },
   "file_extension": ".py",
   "mimetype": "text/x-python",
   "name": "python",
   "nbconvert_exporter": "python",
   "pygments_lexer": "ipython3",
   "version": "3.8.10"
  }
 },
 "nbformat": 4,
 "nbformat_minor": 2
}
