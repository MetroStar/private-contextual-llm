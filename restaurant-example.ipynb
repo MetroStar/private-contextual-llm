{
 "cells": [
  {
   "cell_type": "markdown",
   "metadata": {},
   "source": [
    "# Private Contextual LLM Generation\n",
    "\n",
    "In this example we will demonstrate how to develop a simple system that can track and filter individual chat histories for generated responses. This example leverages Retrieval Augmented Generation (RAG) to retrieve relevant content for each user prompt in order to generate a reasonable response. This content is further filtered by which user the model is interacting with, thereby creating a private context between the LLM and the user. \n",
    "\n",
    "This example leverages the txtai library (https://github.com/neuml/txtai) for embeddings and the transformers (https://huggingface.co/docs/transformers/en/index) library for the LLM."
   ]
  },
  {
   "cell_type": "code",
   "execution_count": 1,
   "metadata": {},
   "outputs": [],
   "source": [
    "#If you have multiple GPUs you can set the specific GPU to use here - otherwise you can ignore\n",
    "# This example will most likely require multiple GPUs\n",
    "import os\n",
    "os.environ['CUDA_VISIBLE_DEVICES'] = '2,3' "
   ]
  },
  {
   "cell_type": "code",
   "execution_count": 2,
   "metadata": {},
   "outputs": [
    {
     "name": "stderr",
     "output_type": "stream",
     "text": [
      "/home/jdownes/private-contextual-llm/.venv/lib/python3.8/site-packages/tqdm/auto.py:21: TqdmWarning: IProgress not found. Please update jupyter and ipywidgets. See https://ipywidgets.readthedocs.io/en/stable/user_install.html\n",
      "  from .autonotebook import tqdm as notebook_tqdm\n"
     ]
    }
   ],
   "source": [
    "# Imports\n",
    "from txtai.embeddings import Embeddings\n",
    "from transformers import AutoTokenizer, AutoModelForCausalLM\n",
    "import torch"
   ]
  },
  {
   "cell_type": "code",
   "execution_count": 3,
   "metadata": {},
   "outputs": [
    {
     "name": "stderr",
     "output_type": "stream",
     "text": [
      "Special tokens have been added in the vocabulary, make sure the associated word embeddings are fine-tuned or trained.\n",
      "Loading checkpoint shards: 100%|██████████| 2/2 [00:05<00:00,  2.72s/it]\n"
     ]
    }
   ],
   "source": [
    "# Load Tokenizer and LLM \n",
    "# this may take several minutes if you're running for the first time\n",
    "\n",
    "tokenizer = AutoTokenizer.from_pretrained(\"amazon/MistralLite\", model_max_length = 2000)\n",
    "model = AutoModelForCausalLM.from_pretrained(\"amazon/MistralLite\", pad_token_id = tokenizer.eos_token_id, device_map=\"auto\")\n",
    "\n",
    "#device = torch.device(\"cuda\" if torch.cuda.is_available() else \"cpu\")\n",
    "#model = model.to(device)"
   ]
  },
  {
   "cell_type": "code",
   "execution_count": 4,
   "metadata": {},
   "outputs": [
    {
     "name": "stderr",
     "output_type": "stream",
     "text": [
      "Setting `pad_token_id` to `eos_token_id`:2 for open-end generation.\n",
      "/home/jdownes/private-contextual-llm/.venv/lib/python3.8/site-packages/transformers/generation/utils.py:1477: UserWarning: You are calling .generate() with the `input_ids` being on a device type different than your model's device. `input_ids` is on cpu, whereas the model is on cuda. You may experience unexpected behaviors or slower generation. Please make sure that you have put `input_ids` to the correct device by calling for example input_ids = input_ids.to('cuda') before running `.generate()`.\n",
      "  warnings.warn(\n"
     ]
    }
   ],
   "source": [
    "# Generate a baseline response to our test question, this response has no additional context (i.e. no RAG)\n",
    "# Depending on your hardware this response may take more than a minute to generate\n",
    "\n",
    "q = \"What is the best food to eat in Chicago?\"\n",
    "mistral_q = f\"<|prompter|>{q}</s><|assistant|>\"\n",
    "\n",
    "inputs = tokenizer(\n",
    "    mistral_q,\n",
    "    return_tensors=\"pt\")\n",
    "\n",
    "outputs = model.generate(\n",
    "    **inputs, max_new_tokens=1000, use_cache=True, do_sample=True,\n",
    "    temperature=0.2, top_p=0.95)\n",
    "\n",
    "text = tokenizer.batch_decode(outputs)[0]\n",
    "\n"
   ]
  },
  {
   "cell_type": "code",
   "execution_count": 5,
   "metadata": {},
   "outputs": [
    {
     "name": "stdout",
     "output_type": "stream",
     "text": [
      "<s><|prompter|> What is the best food to eat in Chicago?</s><|assistant|> Chicago is known for its diverse and delicious food scene, and there are many options to choose from. Here are some of the best foods to try in Chicago:\n",
      "\n",
      "1. Deep-dish pizza: Chicago-style pizza is famous for its thick crust, cheese, and toppings. Some of the best places to try deep-dish pizza in Chicago include Lou Malnati's, Giordano's, and Pizzeria Uno.\n",
      "\n",
      "2. Hot dogs: Chicago-style hot dogs are served on a poppy seed bun with mustard, relish, onions, tomato wedges, pickle spear, sport peppers, and celery salt. The best place to try a Chicago-style hot dog is at Portillo's.\n",
      "\n",
      "3. Italian beef sandwich: This sandwich is made with thinly sliced roast beef, served on a long roll with au jus and topped with sweet peppers. The best place to try an Italian beef sandwich is at Al's #1 Italian Beef.\n",
      "\n",
      "4. Chicago-style hot dogs: This is a variation of the regular hot dog, served on a poppy seed bun with mustard, relish, onions, tomato wedges, pickle spear, sport peppers, and celery salt. The best place to try a Chicago-style hot dog is at Portillo's.\n",
      "\n",
      "5. Gyros: This Greek-inspired sandwich is made with sliced meat, served on a pita bread with tzatziki sauce, tomatoes, onions, and lettuce. The best place to try gyros in Chicago is at The Original Gyro House.\n",
      "\n",
      "6. Polish sausage: This is a grilled sausage served on a bun with mustard, onions, and grilled peppers. The best place to try Polish sausage in Chicago is at Maxim's Polish Restaurant.\n",
      "\n",
      "7. Chicago-style popcorn: This is a mix of caramel and cheese popcorn, served in a paper bag. The best place to try Chicago-style popcorn is at Garrett Popcorn Shops.\n",
      "\n",
      "8. Chicago-style hot chocolate: This is a rich and creamy hot chocolate served with a dollop of whipped cream. The best place to try Chicago-style hot chocolate is at The Original Hot Chocolate.\n",
      "\n",
      "9. Italian beef sandwich: This sandwich is made with thinly sliced roast beef, served on a long roll with au jus and topped with sweet peppers. The best place to try an Italian beef sandwich is at Al's #1 Italian Beef.\n",
      "\n",
      "10. Chicago-style pizza: This is a thin-crust pizza with a tomato sauce, cheese, and toppings. The best place to try Chicago-style pizza is at Pizzeria Uno.\n",
      "\n",
      "These are just a few of the many delicious foods to try in Chicago. Whether you're a local or a visitor, you're sure to find something to satisfy your taste buds in this food-lover's paradise.</s>\n"
     ]
    }
   ],
   "source": [
    "print(text)"
   ]
  },
  {
   "cell_type": "markdown",
   "metadata": {},
   "source": [
    "# Add the RAG solution"
   ]
  },
  {
   "cell_type": "code",
   "execution_count": 6,
   "metadata": {},
   "outputs": [],
   "source": [
    "# Create the knowledge base\n",
    "embeddings = Embeddings(\n",
    "    {\"path\": \"sentence-transformers/multi-qa-mpnet-base-dot-v1\", \"content\": True, \"tokenize\": True}\n",
    ")\n",
    "chat_data=[]\n",
    "user1_context=[\"I hate spicy food.\", \"My favorite type of foods are seafood.\"]\n",
    "user2_context=[\"I love southern food.\", \"I am open to trying all types of food.\"]\n",
    "shared_knowledge=[\"The best seafood restaurant in Chicago is LeTour!\",\"The best pizza restaurant in Chicago is Pequod's Pizza.\"]\n",
    "for d in user1_context:\n",
    "    chat_data.append({\"text\": d, \"user_id\":1})\n",
    "for d in user2_context:\n",
    "    chat_data.append({\"text\": d, \"user_id\":2})\n",
    "\n",
    "#User 0 is our shared knowledge space\n",
    "for d in shared_knowledge:\n",
    "    chat_data.append({\"text\": d, \"user_id\":0})\n",
    "embeddings.index(chat_data)\n"
   ]
  },
  {
   "cell_type": "code",
   "execution_count": 7,
   "metadata": {},
   "outputs": [],
   "source": [
    "# Retrieve context relevant to the question but filter responses to just one user's chat history and the shared knowledge\n",
    "\n",
    "user_id =1\n",
    "query = f\"select * from txtai where similar('{q}') AND (user_id={user_id} or user_id=0) LIMIT 10\"\n",
    "results = embeddings.search(query)\n",
    "\n"
   ]
  },
  {
   "cell_type": "code",
   "execution_count": 8,
   "metadata": {},
   "outputs": [
    {
     "name": "stderr",
     "output_type": "stream",
     "text": [
      "Setting `pad_token_id` to `eos_token_id`:2 for open-end generation.\n"
     ]
    }
   ],
   "source": [
    "# Combine retrieved context with a new prompt for the LLM\n",
    "\n",
    "fr = \" \".join([ r['text'] for r in results])\n",
    "\n",
    "mistral_qc = f\"<|prompter|>With the following additional context: {fr} Provide an answer to the following question: {q}</s><|assistant|>\"\n",
    "\n",
    "inputs = tokenizer(\n",
    "    mistral_qc,\n",
    "    return_tensors=\"pt\")\n",
    "\n",
    "outputs = model.generate(\n",
    "    **inputs, max_new_tokens=1000, use_cache=True, do_sample=True,\n",
    "    temperature=0.2, top_p=0.95)\n",
    "\n",
    "text = tokenizer.batch_decode(outputs)[0]"
   ]
  },
  {
   "cell_type": "code",
   "execution_count": 9,
   "metadata": {},
   "outputs": [
    {
     "name": "stdout",
     "output_type": "stream",
     "text": [
      "<s><|prompter|> With the following additional context: The best pizza restaurant in Chicago is Pequod's Pizza. The best seafood restaurant in Chicago is LeTour! My favorite type of foods are seafood. I hate spicy food. Provide an answer to the following question: What is the best food to eat in Chicago?</s><|assistant|> The best food to eat in Chicago depends on your personal preferences. If you enjoy seafood, LeTour! is a great option. If you prefer pizza, Pequod's Pizza is highly regarded. However, Chicago is known for its diverse food scene, so there are many other options to explore. Some other popular food choices in Chicago include deep-dish pizza, Chicago-style hot dogs, Italian beef sandwiches, and Chicago-style pizza.</s>\n"
     ]
    }
   ],
   "source": [
    "print(text)\n"
   ]
  },
  {
   "cell_type": "code",
   "execution_count": null,
   "metadata": {},
   "outputs": [],
   "source": []
  }
 ],
 "metadata": {
  "kernelspec": {
   "display_name": ".venv",
   "language": "python",
   "name": "python3"
  },
  "language_info": {
   "codemirror_mode": {
    "name": "ipython",
    "version": 3
   },
   "file_extension": ".py",
   "mimetype": "text/x-python",
   "name": "python",
   "nbconvert_exporter": "python",
   "pygments_lexer": "ipython3",
   "version": "3.8.10"
  }
 },
 "nbformat": 4,
 "nbformat_minor": 2
}
